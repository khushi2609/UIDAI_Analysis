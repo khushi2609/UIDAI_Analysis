{
 "cells": [
  {
   "cell_type": "code",
   "execution_count": 11,
   "id": "4e0b128e",
   "metadata": {},
   "outputs": [],
   "source": [
    "import operator \n",
    "import csv\n",
    "import matplotlib.pyplot as plt"
   ]
  },
  {
   "cell_type": "code",
   "execution_count": 12,
   "id": "1dd09a58",
   "metadata": {},
   "outputs": [
    {
     "data": {
      "text/plain": [
       "'Registrar,Enrolment Agency,State,District,Sub District,Pin Code,Gender,Age,Aadhaar generated,Enrolment Rejected,Residents providing email,Residents providing mobile number\\n'"
      ]
     },
     "execution_count": 12,
     "metadata": {},
     "output_type": "execute_result"
    }
   ],
   "source": [
    "raw=[]\n",
    "data = open('./UIDAI-ENR-DETAIL-20170308/UIDAI-ENR-DETAIL-20170308.csv', 'r')\n",
    "next(data)"
   ]
  },
  {
   "cell_type": "code",
   "execution_count": 13,
   "id": "b660bfeb",
   "metadata": {},
   "outputs": [],
   "source": [
    "for line in data:\n",
    "    raw.append(line.strip().split(','))\n",
    "mvkmale={}\n",
    "mvkfemale={}\n",
    "mvk={}"
   ]
  },
  {
   "cell_type": "code",
   "execution_count": 21,
   "id": "baef1e86",
   "metadata": {},
   "outputs": [],
   "source": [
    "for row in raw:\n",
    "    k=row[3]\n",
    "    v=row[8]\n",
    "    if v!='':\n",
    "        v=int(float(v))\n",
    "    else:\n",
    "        v=0\n",
    "    if k in mvk:\n",
    "        mvk[k]+=v\n",
    "    else:\n",
    "        mvk[k]=v\n",
    "sorted_d = dict( sorted(mvk.items(), key=lambda x: x[1], reverse=True))\n",
    "top10={k: sorted_d[k] for k in list(sorted_d)[:10]}"
   ]
  },
  {
   "cell_type": "code",
   "execution_count": 22,
   "id": "18dbd7c5",
   "metadata": {},
   "outputs": [],
   "source": [
    "states = []\n",
    "Aadhaars = []"
   ]
  },
  {
   "cell_type": "code",
   "execution_count": 23,
   "id": "2e961094",
   "metadata": {},
   "outputs": [],
   "source": [
    "for key ,value in sorted_d.items():\n",
    "    states.append(key)\n",
    "    Aadhaars.append(value)\n",
    "for row in raw:\n",
    "    k=row[3]\n",
    "    v=row[8]\n",
    "    g=row[6]\n",
    "    \n",
    "    if g==\"M\":\n",
    "        if v!='':\n",
    "            v=int(float(v))\n",
    "        else:\n",
    "            v=0\n",
    "        if k in mvkmale:\n",
    "            mvkmale[k]+=v\n",
    "        else:\n",
    "            mvkmale[k]=v\n",
    "    elif g==\"F\":\n",
    "        if v!='':\n",
    "            v=int(float(v))\n",
    "        else:\n",
    "            v=0\n",
    "        if k in mvkfemale:\n",
    "            mvkfemale[k]+=v\n",
    "        else:\n",
    "            mvkfemale[k]=v\n",
    "\n",
    "sorted_male = dict( sorted(mvkmale.items(), key=lambda x: x[1], reverse=True))\n",
    "sorted_female = dict( sorted(mvkfemale.items(), key=lambda x: x[1], reverse=True))"
   ]
  },
  {
   "cell_type": "code",
   "execution_count": 24,
   "id": "406b7822",
   "metadata": {},
   "outputs": [],
   "source": [
    "Dist=[]\n",
    "male=[]\n",
    "female=[]"
   ]
  },
  {
   "cell_type": "code",
   "execution_count": 25,
   "id": "950890d4",
   "metadata": {},
   "outputs": [
    {
     "name": "stdout",
     "output_type": "stream",
     "text": [
      "South 24 Parganas 7825 8382\n",
      "Barddhaman 6077 9744\n",
      "Bhagalpur 11007 3472\n",
      "North 24 Parganas 5164 6108\n",
      "Gaya 5959 4796\n",
      "Katihar 6968 2511\n",
      "Patna 6191 2754\n",
      "Murshidabad 6808 1848\n",
      "Samastipur 6195 2035\n",
      "Nadia 5509 2653\n"
     ]
    }
   ],
   "source": [
    "for item in top10:\n",
    "    Dist.append(item)\n",
    "    male.append(sorted_male[item])\n",
    "    female.append(sorted_female[item])\n",
    "    \n",
    "for i in range(0,10):\n",
    "    print(Dist[i],male[i],female[i])"
   ]
  },
  {
   "cell_type": "code",
   "execution_count": 30,
   "id": "e8f3e91d",
   "metadata": {},
   "outputs": [
    {
     "data": {
      "image/png": "[encoded data removed]",
      "text/plain": [
       "<Figure size 432x288 with 1 Axes>"
      ]
     },
     "metadata": {
      "needs_background": "light"
     },
     "output_type": "display_data"
    }
   ],
   "source": [
    "plt.plot(Dist,male,\"b\",label=\"male\")\n",
    "plt.plot(Dist,female,\"r\",label=\"female\")\n",
    "plt.xticks(rotation=90)\n",
    "plt.xlabel(\"Districts\")\n",
    "plt.ylabel(\"Number of Aadhaar Generated\")\n",
    "plt.legend()\n",
    "plt.show()"
   ]
  },
  {
   "cell_type": "code",
   "execution_count": null,
   "id": "1e0e7ce6",
   "metadata": {},
   "outputs": [],
   "source": []
  }
 ],
 "metadata": {
  "kernelspec": {
   "display_name": "Python 3",
   "language": "python",
   "name": "python3"
  },
  "language_info": {
   "codemirror_mode": {
    "name": "ipython",
    "version": 3
   },
   "file_extension": ".py",
   "mimetype": "text/x-python",
   "name": "python",
   "nbconvert_exporter": "python",
   "pygments_lexer": "ipython3",
   "version": "3.6.5"
  }
 },
 "nbformat": 4,
 "nbformat_minor": 5
}
